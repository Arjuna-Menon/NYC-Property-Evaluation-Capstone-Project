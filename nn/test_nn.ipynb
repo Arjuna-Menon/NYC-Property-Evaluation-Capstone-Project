{
 "cells": [
  {
   "cell_type": "code",
   "execution_count": 1,
   "metadata": {},
   "outputs": [
    {
     "name": "stderr",
     "output_type": "stream",
     "text": [
      "Using TensorFlow backend.\n"
     ]
    }
   ],
   "source": [
    "#https://towardsdatascience.com/a-guide-to-an-efficient-way-to-build-neural-network-architectures-part-i-hyper-parameter-8129009f131b\n",
    "\n",
    "\n",
    "from hyperas.distributions import choice, uniform\n",
    "from hyperas import optim\n",
    "import pandas as pd\n",
    "from sklearn.model_selection import train_test_split\n",
    "from sklearn.preprocessing import MinMaxScaler\n",
    "import matplotlib.pyplot as plt\n",
    "import numpy as np\n",
    "import tensorflow as tf\n",
    "from hyperopt import Trials, STATUS_OK, tpe"
   ]
  },
  {
   "cell_type": "code",
   "execution_count": 2,
   "metadata": {},
   "outputs": [],
   "source": [
    "def data():\n",
    "    df = pd.read_csv('../sample/sample_0.011.csv')\n",
    "    df.drop(['block', 'lot', 'assesstot'], axis=1, inplace=True)\n",
    "    \n",
    "    categorical_vars = ['cd', 'schooldist', 'council', 'zipcode', 'firecomp',\n",
    "           'policeprct', 'healtharea', 'sanitboro', 'sanitsub', 'zonedist1',\n",
    "           'spdist1', 'ltdheight', 'landuse',  'ext', 'proxcode', 'irrlotcode', 'lottype',\n",
    "           'borocode','edesignum', 'sanitdistrict', 'healthcenterdistrict', 'pfirm15_flag']\n",
    "    \n",
    "    df_dummies = pd.get_dummies(df[categorical_vars], drop_first=False)  \n",
    "    df.drop(categorical_vars, axis=1, inplace=True)\n",
    "    df = pd.concat([df, df_dummies], axis=1)\n",
    "    \n",
    "    X = df[df.columns]\n",
    "    X.drop('assessland', axis=1, inplace=True)\n",
    "    print('predictors', len(X.columns))\n",
    "    X = X.values\n",
    "    Y = df['assessland'].values\n",
    "    \n",
    "    scaler = MinMaxScaler()\n",
    "    x_norm = scaler.fit_transform(X)\n",
    "    X_train, X_test, Y_train, Y_test = train_test_split(x_norm, Y.reshape(-1,1), \n",
    "                                                        test_size=0.2, random_state=0)\n",
    "    return X_train, X_test, Y_train, Y_test\n"
   ]
  },
  {
   "cell_type": "code",
   "execution_count": 97,
   "metadata": {},
   "outputs": [],
   "source": []
  },
  {
   "cell_type": "code",
   "execution_count": 3,
   "metadata": {},
   "outputs": [],
   "source": [
    "from keras import backend\n",
    "\n",
    "def model(X_train, Y_train, X_test, Y_test):\n",
    "    model = tf.keras.models.Sequential()\n",
    "    model.add(tf.keras.layers.Dense(412))\n",
    "    model.add(tf.keras.layers.Activation('linear'))\n",
    "    model.add(tf.keras.layers.Dropout({{uniform(0, 1)}}))\n",
    "    model.add(tf.keras.layers.Dense({{choice(range(1,200,10))}}))\n",
    "    model.add(tf.keras.layers.Activation({{choice(['relu', 'linear'])}}))\n",
    "    model.add(tf.keras.layers.Dropout({{uniform(0, 1)}}))\n",
    "    model.add(tf.keras.layers.Dense({{choice(range(1,200,10))}}))\n",
    "    model.add(tf.keras.layers.Activation({{choice(['relu', 'linear'])}}))\n",
    "    model.add(tf.keras.layers.Dropout({{uniform(0, 1)}}))\n",
    "    model.add(tf.keras.layers.Dense(1))\n",
    "    model.add(tf.keras.layers.Activation('linear'))  \n",
    "    model.compile(loss='mse', metrics=['mse'], optimizer={{choice(['rmsprop', 'adam'])}})\n",
    "    model.fit(X_train, Y_train,batch_size={{choice([20,50,100,150])}},epochs=10,verbose=2, \n",
    "              validation_data=(X_test, Y_test))\n",
    "    pred = model.evaluate(X_test, Y_test, verbose=0)\n",
    "    return {'loss': -pred[1], 'status': STATUS_OK, 'model': model}\n"
   ]
  },
  {
   "cell_type": "code",
   "execution_count": 4,
   "metadata": {},
   "outputs": [
    {
     "name": "stdout",
     "output_type": "stream",
     "text": [
      "predictors 412\n"
     ]
    }
   ],
   "source": [
    "X_train, X_test, Y_train, Y_test = data()"
   ]
  },
  {
   "cell_type": "code",
   "execution_count": 7,
   "metadata": {},
   "outputs": [
    {
     "name": "stdout",
     "output_type": "stream",
     "text": [
      "input_nodes 412\n",
      "max_hidden_nodes 274\n"
     ]
    }
   ],
   "source": [
    "\n"
   ]
  },
  {
   "cell_type": "code",
   "execution_count": 5,
   "metadata": {},
   "outputs": [
    {
     "name": "stdout",
     "output_type": "stream",
     "text": [
      ">>> Imports:\n",
      "#coding=utf-8\n",
      "\n",
      "try:\n",
      "    from hyperas.distributions import choice, uniform\n",
      "except:\n",
      "    pass\n",
      "\n",
      "try:\n",
      "    from hyperas import optim\n",
      "except:\n",
      "    pass\n",
      "\n",
      "try:\n",
      "    import pandas as pd\n",
      "except:\n",
      "    pass\n",
      "\n",
      "try:\n",
      "    from sklearn.model_selection import train_test_split\n",
      "except:\n",
      "    pass\n",
      "\n",
      "try:\n",
      "    from sklearn.preprocessing import MinMaxScaler\n",
      "except:\n",
      "    pass\n",
      "\n",
      "try:\n",
      "    import matplotlib.pyplot as plt\n",
      "except:\n",
      "    pass\n",
      "\n",
      "try:\n",
      "    import numpy as np\n",
      "except:\n",
      "    pass\n",
      "\n",
      "try:\n",
      "    import tensorflow as tf\n",
      "except:\n",
      "    pass\n",
      "\n",
      "try:\n",
      "    from hyperopt import Trials, STATUS_OK, tpe\n",
      "except:\n",
      "    pass\n",
      "\n",
      "try:\n",
      "    from keras import backend\n",
      "except:\n",
      "    pass\n",
      "\n",
      "try:\n",
      "    from keras.utils import plot_model\n",
      "except:\n",
      "    pass\n",
      "\n",
      ">>> Hyperas search space:\n",
      "\n",
      "def get_space():\n",
      "    return {\n",
      "        'Dropout': hp.uniform('Dropout', 0, 1),\n",
      "        'Dense': hp.choice('Dense', range(1,200,10)),\n",
      "        'Activation': hp.choice('Activation', ['relu', 'linear']),\n",
      "        'Dropout_1': hp.uniform('Dropout_1', 0, 1),\n",
      "        'Dense_1': hp.choice('Dense_1', range(1,200,10)),\n",
      "        'Activation_1': hp.choice('Activation_1', ['relu', 'linear']),\n",
      "        'Dropout_2': hp.uniform('Dropout_2', 0, 1),\n",
      "        'optimizer': hp.choice('optimizer', ['rmsprop', 'adam']),\n",
      "        'batch_size': hp.choice('batch_size', [20,50,100,150]),\n",
      "    }\n",
      "\n",
      ">>> Data\n",
      "  1: \n",
      "  2: df = pd.read_csv('../sample/sample_0.011.csv')\n",
      "  3: df.drop(['block', 'lot', 'assesstot'], axis=1, inplace=True)\n",
      "  4: \n",
      "  5: categorical_vars = ['cd', 'schooldist', 'council', 'zipcode', 'firecomp',\n",
      "  6:        'policeprct', 'healtharea', 'sanitboro', 'sanitsub', 'zonedist1',\n",
      "  7:        'spdist1', 'ltdheight', 'landuse',  'ext', 'proxcode', 'irrlotcode', 'lottype',\n",
      "  8:        'borocode','edesignum', 'sanitdistrict', 'healthcenterdistrict', 'pfirm15_flag']\n",
      "  9: \n",
      " 10: df_dummies = pd.get_dummies(df[categorical_vars], drop_first=False)  \n",
      " 11: df.drop(categorical_vars, axis=1, inplace=True)\n",
      " 12: df = pd.concat([df, df_dummies], axis=1)\n",
      " 13: \n",
      " 14: X = df[df.columns]\n",
      " 15: X.drop('assessland', axis=1, inplace=True)\n",
      " 16: print('predictors', len(X.columns))\n",
      " 17: X = X.values\n",
      " 18: Y = df['assessland'].values\n",
      " 19: \n",
      " 20: scaler = MinMaxScaler()\n",
      " 21: x_norm = scaler.fit_transform(X)\n",
      " 22: X_train, X_test, Y_train, Y_test = train_test_split(x_norm, Y.reshape(-1,1), \n",
      " 23:                                                     test_size=0.2, random_state=0)\n",
      " 24: \n",
      " 25: \n",
      " 26: \n",
      ">>> Resulting replaced keras model:\n",
      "\n",
      "  1: def keras_fmin_fnct(space):\n",
      "  2: \n",
      "  3:     model = tf.keras.models.Sequential()\n",
      "  4:     model.add(tf.keras.layers.Dense(412))\n",
      "  5:     model.add(tf.keras.layers.Activation('linear'))\n",
      "  6:     model.add(tf.keras.layers.Dropout(space['Dropout']))\n",
      "  7:     model.add(tf.keras.layers.Dense(space['Dense']))\n",
      "  8:     model.add(tf.keras.layers.Activation(space['Activation']))\n",
      "  9:     model.add(tf.keras.layers.Dropout(space['Dropout_1']))\n",
      " 10:     model.add(tf.keras.layers.Dense(space['Dense_1']))\n",
      " 11:     model.add(tf.keras.layers.Activation(space['Activation_1']))\n",
      " 12:     model.add(tf.keras.layers.Dropout(space['Dropout_2']))\n",
      " 13:     model.add(tf.keras.layers.Dense(1))\n",
      " 14:     model.add(tf.keras.layers.Activation('linear'))  \n",
      " 15:     model.compile(loss='mse', metrics=['mse'], optimizer=space['optimizer'])\n",
      " 16:     model.fit(X_train, Y_train,batch_size=space['batch_size'],epochs=10,verbose=2, \n",
      " 17:               validation_data=(X_test, Y_test))\n",
      " 18:     pred = model.evaluate(X_test, Y_test, verbose=0)\n",
      " 19:     return {'loss': -pred[1], 'status': STATUS_OK, 'model': model}\n",
      " 20: \n",
      "predictors 412\n",
      "  0%|          | 0/5 [00:00<?, ?it/s, best loss: ?]WARNING:tensorflow:From /anaconda3/lib/python3.7/site-packages/tensorflow/python/ops/resource_variable_ops.py:435: colocate_with (from tensorflow.python.framework.ops) is deprecated and will be removed in a future version.\n",
      "Instructions for updating:\n",
      "Colocations handled automatically by placer.\n",
      "WARNING:tensorflow:From /anaconda3/lib/python3.7/site-packages/tensorflow/python/keras/layers/core.py:143: calling dropout (from tensorflow.python.ops.nn_ops) with keep_prob is deprecated and will be removed in a future version.\n",
      "Instructions for updating:\n",
      "Please use `rate` instead of `keep_prob`. Rate should be set to `rate = 1 - keep_prob`.\n",
      "WARNING:tensorflow:From /anaconda3/lib/python3.7/site-packages/tensorflow/python/keras/utils/losses_utils.py:170: to_float (from tensorflow.python.ops.math_ops) is deprecated and will be removed in a future version.\n",
      "Instructions for updating:\n",
      "Use tf.cast instead.\n",
      "Train on 12428 samples, validate on 3108 samples   \n",
      "  0%|          | 0/5 [00:00<?, ?it/s, best loss: ?]WARNING:tensorflow:From /anaconda3/lib/python3.7/site-packages/tensorflow/python/ops/math_ops.py:3066: to_int32 (from tensorflow.python.ops.math_ops) is deprecated and will be removed in a future version.\n",
      "Instructions for updating:\n",
      "Use tf.cast instead.\n",
      "Epoch 1/10                                         \n",
      " - 1s - loss: 4968549696.5143 - mean_squared_error: 4968550400.0000 - val_loss: 3441187110.3681 - val_mean_squared_error: 3441186816.0000\n",
      "\n",
      "Epoch 2/10                                         \n",
      " - 1s - loss: 4729134629.2720 - mean_squared_error: 4729134592.0000 - val_loss: 3348179081.7040 - val_mean_squared_error: 3348178688.0000\n",
      "\n",
      "Epoch 3/10                                         \n",
      " - 1s - loss: 4667555339.8352 - mean_squared_error: 4667555328.0000 - val_loss: 3280022659.5521 - val_mean_squared_error: 3280022528.0000\n",
      "\n",
      "Epoch 4/10                                         \n",
      " - 1s - loss: 4571650382.9405 - mean_squared_error: 4571652096.0000 - val_loss: 3168145122.1931 - val_mean_squared_error: 3168145408.0000\n",
      "\n",
      "Epoch 5/10                                         \n",
      " - 1s - loss: 4400867236.6695 - mean_squared_error: 4400864768.0000 - val_loss: 3012529503.1351 - val_mean_squared_error: 3012529408.0000\n",
      "\n",
      "Epoch 6/10                                         \n",
      " - 1s - loss: 4272657473.2449 - mean_squared_error: 4272659712.0000 - val_loss: 2878979586.2033 - val_mean_squared_error: 2878979840.0000\n",
      "\n",
      "Epoch 7/10                                         \n",
      " - 1s - loss: 4127678675.7541 - mean_squared_error: 4127679488.0000 - val_loss: 2743768111.6551 - val_mean_squared_error: 2743768576.0000\n",
      "\n",
      "Epoch 8/10                                         \n",
      " - 1s - loss: 3995127724.3759 - mean_squared_error: 3995127552.0000 - val_loss: 2650586967.6911 - val_mean_squared_error: 2650586368.0000\n",
      "\n",
      "Epoch 9/10                                         \n",
      " - 1s - loss: 3983209655.6241 - mean_squared_error: 3983209472.0000 - val_loss: 2572536455.2072 - val_mean_squared_error: 2572536320.0000\n",
      "\n",
      "Epoch 10/10                                        \n",
      " - 1s - loss: 3849714329.7573 - mean_squared_error: 3849713920.0000 - val_loss: 2514601108.0927 - val_mean_squared_error: 2514601216.0000\n",
      "\n",
      "Train on 12428 samples, validate on 3108 samples                       \n",
      "Epoch 1/10                                                             \n",
      " - 1s - loss: 5130709109.0827 - mean_squared_error: 5130707968.0000 - val_loss: 3767428767.2999 - val_mean_squared_error: 3767428608.0000\n",
      "\n",
      "Epoch 2/10                                                             \n",
      " - 1s - loss: 4922419648.3553 - mean_squared_error: 4922419712.0000 - val_loss: 3508504720.5354 - val_mean_squared_error: 3508504576.0000\n",
      "\n",
      "Epoch 3/10                                                             \n",
      " - 1s - loss: 4818888914.4126 - mean_squared_error: 4818889216.0000 - val_loss: 3468658762.0077 - val_mean_squared_error: 3468658688.0000\n",
      "\n",
      "Epoch 4/10                                                             \n",
      " - 1s - loss: 4803816306.4487 - mean_squared_error: 4803816448.0000 - val_loss: 3457814856.8288 - val_mean_squared_error: 3457814528.0000\n",
      "\n",
      "Epoch 5/10                                                             \n",
      " - 1s - loss: 4797401485.8371 - mean_squared_error: 4797400576.0000 - val_loss: 3449532202.9755 - val_mean_squared_error: 3449531904.0000\n",
      "\n",
      "Epoch 6/10                                                             \n",
      " - 1s - loss: 4767816039.2713 - mean_squared_error: 4767815168.0000 - val_loss: 3451186998.6100 - val_mean_squared_error: 3451187200.0000\n",
      "\n",
      "Epoch 7/10                                                             \n"
     ]
    },
    {
     "name": "stdout",
     "output_type": "stream",
     "text": [
      " - 1s - loss: 4779905014.0972 - mean_squared_error: 4779905024.0000 - val_loss: 3435842280.7439 - val_mean_squared_error: 3435842048.0000\n",
      "\n",
      "Epoch 8/10                                                             \n",
      " - 1s - loss: 4757749857.8191 - mean_squared_error: 4757749248.0000 - val_loss: 3432443643.7426 - val_mean_squared_error: 3432443392.0000\n",
      "\n",
      "Epoch 9/10                                                             \n",
      " - 1s - loss: 4781843392.1854 - mean_squared_error: 4781843456.0000 - val_loss: 3433161799.0631 - val_mean_squared_error: 3433161984.0000\n",
      "\n",
      "Epoch 10/10                                                            \n",
      " - 1s - loss: 4760859195.6640 - mean_squared_error: 4760859136.0000 - val_loss: 3429887320.3604 - val_mean_squared_error: 3429887488.0000\n",
      "\n",
      "Train on 12428 samples, validate on 3108 samples                       \n",
      "Epoch 1/10                                                             \n",
      " - 1s - loss: 5136457644.3746 - mean_squared_error: 5136457728.0000 - val_loss: 3802111986.0386 - val_mean_squared_error: 3802112000.0000\n",
      "\n",
      "Epoch 2/10                                                             \n",
      " - 1s - loss: 4993730833.6324 - mean_squared_error: 4993731072.0000 - val_loss: 3544006993.4054 - val_mean_squared_error: 3544006400.0000\n",
      "\n",
      "Epoch 3/10                                                             \n",
      " - 1s - loss: 4880348031.0473 - mean_squared_error: 4880349184.0000 - val_loss: 3474112974.1133 - val_mean_squared_error: 3474113024.0000\n",
      "\n",
      "Epoch 4/10                                                             \n",
      " - 1s - loss: 4878161692.0270 - mean_squared_error: 4878160384.0000 - val_loss: 3446230086.2651 - val_mean_squared_error: 3446230784.0000\n",
      "\n",
      "Epoch 5/10                                                             \n",
      " - 1s - loss: 4853984445.8783 - mean_squared_error: 4853983744.0000 - val_loss: 3418264374.0129 - val_mean_squared_error: 3418264576.0000\n",
      "\n",
      "Epoch 6/10                                                             \n",
      " - 1s - loss: 4800993154.4512 - mean_squared_error: 4800994304.0000 - val_loss: 3368596725.1480 - val_mean_squared_error: 3368596736.0000\n",
      "\n",
      "Epoch 7/10                                                             \n",
      " - 1s - loss: 4822758848.7544 - mean_squared_error: 4822758912.0000 - val_loss: 3358065141.0450 - val_mean_squared_error: 3358064896.0000\n",
      "\n",
      "Epoch 8/10                                                             \n",
      " - 1s - loss: 4705263741.4149 - mean_squared_error: 4705264640.0000 - val_loss: 3291394860.2214 - val_mean_squared_error: 3291394816.0000\n",
      "\n",
      "Epoch 9/10                                                             \n",
      " - 0s - loss: 4670352032.6798 - mean_squared_error: 4670351872.0000 - val_loss: 3229805492.3861 - val_mean_squared_error: 3229806080.0000\n",
      "\n",
      "Epoch 10/10                                                            \n",
      " - 0s - loss: 4627610384.9527 - mean_squared_error: 4627611136.0000 - val_loss: 3175048985.2561 - val_mean_squared_error: 3175049216.0000\n",
      "\n",
      "Train on 12428 samples, validate on 3108 samples                       \n",
      "Epoch 1/10                                                             \n",
      " - 1s - loss: 4792198015.2861 - mean_squared_error: 4792197632.0000 - val_loss: 3252237817.2252 - val_mean_squared_error: 3252237824.0000\n",
      "\n",
      "Epoch 2/10                                                             \n",
      " - 1s - loss: 4301848536.6231 - mean_squared_error: 4301849600.0000 - val_loss: 2710184216.5663 - val_mean_squared_error: 2710183936.0000\n",
      "\n",
      "Epoch 3/10                                                             \n",
      " - 1s - loss: 3696732398.8915 - mean_squared_error: 3696732160.0000 - val_loss: 2286699359.0631 - val_mean_squared_error: 2286699264.0000\n",
      "\n",
      "Epoch 4/10                                                             \n",
      " - 1s - loss: 3301379498.3547 - mean_squared_error: 3301378816.0000 - val_loss: 2097778458.6216 - val_mean_squared_error: 2097778688.0000\n",
      "\n",
      "Epoch 5/10                                                             \n",
      " - 1s - loss: 3137100875.4387 - mean_squared_error: 3137101056.0000 - val_loss: 2000821148.2883 - val_mean_squared_error: 2000821120.0000\n",
      "\n",
      "Epoch 6/10                                                             \n",
      " - 1s - loss: 3044180734.4821 - mean_squared_error: 3044182272.0000 - val_loss: 1905455634.8623 - val_mean_squared_error: 1905456128.0000\n",
      "\n",
      "Epoch 7/10                                                             \n",
      " - 1s - loss: 2898986102.0541 - mean_squared_error: 2898985728.0000 - val_loss: 1836667768.5405 - val_mean_squared_error: 1836668032.0000\n",
      "\n",
      "Epoch 8/10                                                             \n",
      " - 1s - loss: 2850642897.4071 - mean_squared_error: 2850643712.0000 - val_loss: 1789124616.0463 - val_mean_squared_error: 1789124480.0000\n",
      "\n",
      "Epoch 9/10                                                             \n",
      " - 1s - loss: 2658477283.5861 - mean_squared_error: 2658477568.0000 - val_loss: 1741297940.3501 - val_mean_squared_error: 1741298048.0000\n",
      "\n",
      "Epoch 10/10                                                            \n",
      " - 1s - loss: 2612571654.3894 - mean_squared_error: 2612570112.0000 - val_loss: 1701779321.3127 - val_mean_squared_error: 1701778944.0000\n",
      "\n",
      "Train on 12428 samples, validate on 3108 samples                       \n",
      "Epoch 1/10                                                             \n",
      " - 2s - loss: 4756002432.0715 - mean_squared_error: 4756002816.0000 - val_loss: 3219030929.5444 - val_mean_squared_error: 3219029248.0000\n",
      "\n",
      "Epoch 2/10                                                             \n",
      " - 2s - loss: 4290331203.3473 - mean_squared_error: 4290330880.0000 - val_loss: 2674200573.7452 - val_mean_squared_error: 2674200320.0000\n",
      "\n",
      "Epoch 3/10                                                             \n",
      " - 2s - loss: 3751550318.0077 - mean_squared_error: 3751550464.0000 - val_loss: 2358177579.6345 - val_mean_squared_error: 2358177792.0000\n",
      "\n",
      "Epoch 4/10                                                             \n",
      " - 2s - loss: 3489698416.1481 - mean_squared_error: 3489697024.0000 - val_loss: 2187475038.6615 - val_mean_squared_error: 2187475456.0000\n",
      "\n",
      "Epoch 5/10                                                             \n",
      " - 2s - loss: 3384248505.0866 - mean_squared_error: 3384246784.0000 - val_loss: 2087485122.8263 - val_mean_squared_error: 2087485952.0000\n",
      "\n",
      "Epoch 6/10                                                             \n",
      " - 2s - loss: 3243340478.2015 - mean_squared_error: 3243340800.0000 - val_loss: 1978639958.6744 - val_mean_squared_error: 1978640128.0000\n",
      "\n",
      "Epoch 7/10                                                             \n",
      " - 2s - loss: 3142294283.7930 - mean_squared_error: 3142294272.0000 - val_loss: 1958770075.0219 - val_mean_squared_error: 1958770560.0000\n",
      "\n",
      "Epoch 8/10                                                             \n",
      " - 2s - loss: 3086670324.7119 - mean_squared_error: 3086670592.0000 - val_loss: 1901688847.1248 - val_mean_squared_error: 1901688576.0000\n",
      "\n",
      "Epoch 9/10                                                             \n",
      " - 2s - loss: 2896121501.8268 - mean_squared_error: 2896123392.0000 - val_loss: 1861180697.5006 - val_mean_squared_error: 1861180672.0000\n",
      "\n",
      "Epoch 10/10                                                            \n",
      " - 2s - loss: 3007111813.4335 - mean_squared_error: 3007111680.0000 - val_loss: 1796192529.3024 - val_mean_squared_error: 1796192640.0000\n",
      "\n",
      "100%|██████████| 5/5 [00:49<00:00, 11.01s/it, best loss: -3429887488.0]\n"
     ]
    }
   ],
   "source": [
    "best_run, best_model = optim.minimize(model=model,\n",
    "                                      data=data,\n",
    "                                      algo=tpe.suggest,\n",
    "                                      max_evals=5,\n",
    "                                      trials=Trials(),\n",
    "                                      notebook_name='test_nn')"
   ]
  },
  {
   "cell_type": "code",
   "execution_count": 7,
   "metadata": {},
   "outputs": [
    {
     "name": "stdout",
     "output_type": "stream",
     "text": [
      "Evalutation of best performing model:\n",
      "3108/3108 [==============================] - 0s 36us/sample - loss: 3429887392.1544 - mean_squared_error: 3429887488.0000\n",
      "[3429887392.15444, 3429887500.0]\n",
      "{'Activation': 1, 'Activation_1': 1, 'Dense': 14, 'Dense_1': 19, 'Dropout': 0.9770005173795487, 'Dropout_1': 0.8366666847115819, 'Dropout_2': 0.9128294469805703, 'batch_size': 2, 'optimizer': 0}\n"
     ]
    }
   ],
   "source": [
    "\n",
    "print(\"Evalutation of best performing model:\")\n",
    "print(best_model.evaluate(X_test, Y_test))\n",
    "print(best_run)"
   ]
  },
  {
   "cell_type": "code",
   "execution_count": 8,
   "metadata": {},
   "outputs": [
    {
     "name": "stdout",
     "output_type": "stream",
     "text": [
      "{'Activation': 'linear', 'Activation_1': 'linear', 'Dense': 14, 'Dense_1': 19, 'Dropout': 0.9770005173795487, 'Dropout_1': 0.8366666847115819, 'Dropout_2': 0.9128294469805703, 'batch_size': 2, 'optimizer': 'rmsprop'}\n"
     ]
    }
   ],
   "source": [
    "activation = ['relu', 'linear']\n",
    "best = best_run.copy()\n",
    "best['Activation'] = activation[best['Activation']]\n",
    "best['Activation_1'] = activation[best['Activation_1']]\n",
    "#best['Activation_2'] = activation[best['Activation_2']]\n",
    "optimizers = ['rmsprop', 'adam']\n",
    "best['optimizer'] = optimizers[best['optimizer']]\n",
    "print(best)"
   ]
  },
  {
   "cell_type": "code",
   "execution_count": 12,
   "metadata": {},
   "outputs": [],
   "source": [
    "model = tf.keras.models.Sequential()\n",
    "model.add(tf.keras.layers.Dense(412))\n",
    "model.add(tf.keras.layers.Activation('linear'))\n",
    "model.add(tf.keras.layers.Dropout(0.977))\n",
    "model.add(tf.keras.layers.Dense(14))\n",
    "model.add(tf.keras.layers.Activation('linear'))\n",
    "model.add(tf.keras.layers.Dropout(0.837))\n",
    "model.add(tf.keras.layers.Dense(19))\n",
    "model.add(tf.keras.layers.Activation('linear'))\n",
    "model.add(tf.keras.layers.Dropout(0.912))\n",
    "model.add(tf.keras.layers.Dense(1))\n",
    "model.add(tf.keras.layers.Activation('linear'))  \n",
    "model.compile(loss='mse', metrics=['mse'], optimizer='rmsprop')"
   ]
  },
  {
   "cell_type": "code",
   "execution_count": 13,
   "metadata": {},
   "outputs": [
    {
     "name": "stdout",
     "output_type": "stream",
     "text": [
      "Train on 12428 samples, validate on 3108 samples\n",
      "Epoch 1/5\n",
      " - 1s - loss: 5144920909.4664 - mean_squared_error: 5144919552.0000 - val_loss: 3847636333.2201 - val_mean_squared_error: 3847636224.0000\n",
      "Epoch 2/5\n",
      " - 1s - loss: 5129091856.1493 - mean_squared_error: 5129090048.0000 - val_loss: 3801414548.9936 - val_mean_squared_error: 3801415168.0000\n",
      "Epoch 3/5\n",
      " - 1s - loss: 5060545103.2224 - mean_squared_error: 5060544000.0000 - val_loss: 3702747818.2548 - val_mean_squared_error: 3702747136.0000\n",
      "Epoch 4/5\n",
      " - 1s - loss: 5013068829.4561 - mean_squared_error: 5013069824.0000 - val_loss: 3656759553.4903 - val_mean_squared_error: 3656759296.0000\n",
      "Epoch 5/5\n",
      " - 1s - loss: 5011191603.7232 - mean_squared_error: 5011194368.0000 - val_loss: 3645893573.7761 - val_mean_squared_error: 3645894400.0000\n"
     ]
    }
   ],
   "source": [
    "history_train = model.fit(X_train, Y_train,epochs=5,verbose=2, validation_data=(X_test, Y_test))"
   ]
  },
  {
   "cell_type": "code",
   "execution_count": 70,
   "metadata": {},
   "outputs": [
    {
     "ename": "ImportError",
     "evalue": "Failed to import `pydot`. Please install `pydot`. For example with `pip install pydot`.",
     "output_type": "error",
     "traceback": [
      "\u001b[0;31m---------------------------------------------------------------------------\u001b[0m",
      "\u001b[0;31mImportError\u001b[0m                               Traceback (most recent call last)",
      "\u001b[0;32m<ipython-input-70-18c84a4b0e8e>\u001b[0m in \u001b[0;36m<module>\u001b[0;34m\u001b[0m\n\u001b[1;32m      1\u001b[0m \u001b[0;32mfrom\u001b[0m \u001b[0mkeras\u001b[0m\u001b[0;34m.\u001b[0m\u001b[0mutils\u001b[0m \u001b[0;32mimport\u001b[0m \u001b[0mplot_model\u001b[0m\u001b[0;34m\u001b[0m\u001b[0;34m\u001b[0m\u001b[0m\n\u001b[0;32m----> 2\u001b[0;31m \u001b[0mplot_model\u001b[0m\u001b[0;34m(\u001b[0m\u001b[0mmodel\u001b[0m\u001b[0;34m)\u001b[0m\u001b[0;34m\u001b[0m\u001b[0;34m\u001b[0m\u001b[0m\n\u001b[0m",
      "\u001b[0;32m/anaconda3/lib/python3.7/site-packages/keras/utils/vis_utils.py\u001b[0m in \u001b[0;36mplot_model\u001b[0;34m(model, to_file, show_shapes, show_layer_names, rankdir)\u001b[0m\n\u001b[1;32m    130\u001b[0m             \u001b[0;34m'LR'\u001b[0m \u001b[0mcreates\u001b[0m \u001b[0ma\u001b[0m \u001b[0mhorizontal\u001b[0m \u001b[0mplot\u001b[0m\u001b[0;34m.\u001b[0m\u001b[0;34m\u001b[0m\u001b[0;34m\u001b[0m\u001b[0m\n\u001b[1;32m    131\u001b[0m     \"\"\"\n\u001b[0;32m--> 132\u001b[0;31m     \u001b[0mdot\u001b[0m \u001b[0;34m=\u001b[0m \u001b[0mmodel_to_dot\u001b[0m\u001b[0;34m(\u001b[0m\u001b[0mmodel\u001b[0m\u001b[0;34m,\u001b[0m \u001b[0mshow_shapes\u001b[0m\u001b[0;34m,\u001b[0m \u001b[0mshow_layer_names\u001b[0m\u001b[0;34m,\u001b[0m \u001b[0mrankdir\u001b[0m\u001b[0;34m)\u001b[0m\u001b[0;34m\u001b[0m\u001b[0;34m\u001b[0m\u001b[0m\n\u001b[0m\u001b[1;32m    133\u001b[0m     \u001b[0m_\u001b[0m\u001b[0;34m,\u001b[0m \u001b[0mextension\u001b[0m \u001b[0;34m=\u001b[0m \u001b[0mos\u001b[0m\u001b[0;34m.\u001b[0m\u001b[0mpath\u001b[0m\u001b[0;34m.\u001b[0m\u001b[0msplitext\u001b[0m\u001b[0;34m(\u001b[0m\u001b[0mto_file\u001b[0m\u001b[0;34m)\u001b[0m\u001b[0;34m\u001b[0m\u001b[0;34m\u001b[0m\u001b[0m\n\u001b[1;32m    134\u001b[0m     \u001b[0;32mif\u001b[0m \u001b[0;32mnot\u001b[0m \u001b[0mextension\u001b[0m\u001b[0;34m:\u001b[0m\u001b[0;34m\u001b[0m\u001b[0;34m\u001b[0m\u001b[0m\n",
      "\u001b[0;32m/anaconda3/lib/python3.7/site-packages/keras/utils/vis_utils.py\u001b[0m in \u001b[0;36mmodel_to_dot\u001b[0;34m(model, show_shapes, show_layer_names, rankdir)\u001b[0m\n\u001b[1;32m     53\u001b[0m     \u001b[0;32mfrom\u001b[0m \u001b[0;34m.\u001b[0m\u001b[0;34m.\u001b[0m\u001b[0mmodels\u001b[0m \u001b[0;32mimport\u001b[0m \u001b[0mSequential\u001b[0m\u001b[0;34m\u001b[0m\u001b[0;34m\u001b[0m\u001b[0m\n\u001b[1;32m     54\u001b[0m \u001b[0;34m\u001b[0m\u001b[0m\n\u001b[0;32m---> 55\u001b[0;31m     \u001b[0m_check_pydot\u001b[0m\u001b[0;34m(\u001b[0m\u001b[0;34m)\u001b[0m\u001b[0;34m\u001b[0m\u001b[0;34m\u001b[0m\u001b[0m\n\u001b[0m\u001b[1;32m     56\u001b[0m     \u001b[0mdot\u001b[0m \u001b[0;34m=\u001b[0m \u001b[0mpydot\u001b[0m\u001b[0;34m.\u001b[0m\u001b[0mDot\u001b[0m\u001b[0;34m(\u001b[0m\u001b[0;34m)\u001b[0m\u001b[0;34m\u001b[0m\u001b[0;34m\u001b[0m\u001b[0m\n\u001b[1;32m     57\u001b[0m     \u001b[0mdot\u001b[0m\u001b[0;34m.\u001b[0m\u001b[0mset\u001b[0m\u001b[0;34m(\u001b[0m\u001b[0;34m'rankdir'\u001b[0m\u001b[0;34m,\u001b[0m \u001b[0mrankdir\u001b[0m\u001b[0;34m)\u001b[0m\u001b[0;34m\u001b[0m\u001b[0;34m\u001b[0m\u001b[0m\n",
      "\u001b[0;32m/anaconda3/lib/python3.7/site-packages/keras/utils/vis_utils.py\u001b[0m in \u001b[0;36m_check_pydot\u001b[0;34m()\u001b[0m\n\u001b[1;32m     18\u001b[0m     \u001b[0;32mif\u001b[0m \u001b[0mpydot\u001b[0m \u001b[0;32mis\u001b[0m \u001b[0;32mNone\u001b[0m\u001b[0;34m:\u001b[0m\u001b[0;34m\u001b[0m\u001b[0;34m\u001b[0m\u001b[0m\n\u001b[1;32m     19\u001b[0m         raise ImportError(\n\u001b[0;32m---> 20\u001b[0;31m             \u001b[0;34m'Failed to import `pydot`. '\u001b[0m\u001b[0;34m\u001b[0m\u001b[0;34m\u001b[0m\u001b[0m\n\u001b[0m\u001b[1;32m     21\u001b[0m             \u001b[0;34m'Please install `pydot`. '\u001b[0m\u001b[0;34m\u001b[0m\u001b[0;34m\u001b[0m\u001b[0m\n\u001b[1;32m     22\u001b[0m             'For example with `pip install pydot`.')\n",
      "\u001b[0;31mImportError\u001b[0m: Failed to import `pydot`. Please install `pydot`. For example with `pip install pydot`."
     ]
    }
   ],
   "source": []
  },
  {
   "cell_type": "code",
   "execution_count": 14,
   "metadata": {},
   "outputs": [
    {
     "data": {
      "text/plain": [
       "{'loss': [5144920909.466366,\n",
       "  5129091856.149341,\n",
       "  5060545103.222401,\n",
       "  5013068829.456067,\n",
       "  5011191603.723206],\n",
       " 'mean_squared_error': [5144919600.0,\n",
       "  5129090000.0,\n",
       "  5060544000.0,\n",
       "  5013070000.0,\n",
       "  5011194400.0],\n",
       " 'val_loss': [3847636333.220077,\n",
       "  3801414548.993565,\n",
       "  3702747818.254826,\n",
       "  3656759553.4903474,\n",
       "  3645893573.776062],\n",
       " 'val_mean_squared_error': [3847636200.0,\n",
       "  3801415200.0,\n",
       "  3702747100.0,\n",
       "  3656759300.0,\n",
       "  3645894400.0]}"
      ]
     },
     "execution_count": 14,
     "metadata": {},
     "output_type": "execute_result"
    }
   ],
   "source": [
    "history_train.history"
   ]
  },
  {
   "cell_type": "code",
   "execution_count": 15,
   "metadata": {},
   "outputs": [
    {
     "ename": "KeyError",
     "evalue": "'rmse_metric'",
     "output_type": "error",
     "traceback": [
      "\u001b[0;31m---------------------------------------------------------------------------\u001b[0m",
      "\u001b[0;31mKeyError\u001b[0m                                  Traceback (most recent call last)",
      "\u001b[0;32m<ipython-input-15-a381fa1cb704>\u001b[0m in \u001b[0;36m<module>\u001b[0;34m\u001b[0m\n\u001b[0;32m----> 1\u001b[0;31m \u001b[0mplt\u001b[0m\u001b[0;34m.\u001b[0m\u001b[0mplot\u001b[0m\u001b[0;34m(\u001b[0m\u001b[0mhistory_train\u001b[0m\u001b[0;34m.\u001b[0m\u001b[0mhistory\u001b[0m\u001b[0;34m[\u001b[0m\u001b[0;34m'rmse_metric'\u001b[0m\u001b[0;34m]\u001b[0m\u001b[0;34m)\u001b[0m\u001b[0;34m\u001b[0m\u001b[0;34m\u001b[0m\u001b[0m\n\u001b[0m\u001b[1;32m      2\u001b[0m \u001b[0mplt\u001b[0m\u001b[0;34m.\u001b[0m\u001b[0mplot\u001b[0m\u001b[0;34m(\u001b[0m\u001b[0mhistory_train\u001b[0m\u001b[0;34m.\u001b[0m\u001b[0mhistory\u001b[0m\u001b[0;34m[\u001b[0m\u001b[0;34m'val_rmse_metric'\u001b[0m\u001b[0;34m]\u001b[0m\u001b[0;34m)\u001b[0m\u001b[0;34m\u001b[0m\u001b[0;34m\u001b[0m\u001b[0m\n\u001b[1;32m      3\u001b[0m \u001b[0mplt\u001b[0m\u001b[0;34m.\u001b[0m\u001b[0mtitle\u001b[0m\u001b[0;34m(\u001b[0m\u001b[0;34m'Model loss'\u001b[0m\u001b[0;34m)\u001b[0m\u001b[0;34m\u001b[0m\u001b[0;34m\u001b[0m\u001b[0m\n\u001b[1;32m      4\u001b[0m \u001b[0mplt\u001b[0m\u001b[0;34m.\u001b[0m\u001b[0mylabel\u001b[0m\u001b[0;34m(\u001b[0m\u001b[0;34m'loss'\u001b[0m\u001b[0;34m)\u001b[0m\u001b[0;34m\u001b[0m\u001b[0;34m\u001b[0m\u001b[0m\n\u001b[1;32m      5\u001b[0m \u001b[0mplt\u001b[0m\u001b[0;34m.\u001b[0m\u001b[0mxlabel\u001b[0m\u001b[0;34m(\u001b[0m\u001b[0;34m'epoch'\u001b[0m\u001b[0;34m)\u001b[0m\u001b[0;34m\u001b[0m\u001b[0;34m\u001b[0m\u001b[0m\n",
      "\u001b[0;31mKeyError\u001b[0m: 'rmse_metric'"
     ]
    }
   ],
   "source": [
    "plt.plot(history_train.history['rmse_metric'])\n",
    "plt.plot(history_train.history['val_rmse_metric'])\n",
    "plt.title('Model loss')\n",
    "plt.ylabel('loss')\n",
    "plt.xlabel('epoch')\n",
    "plt.legend(['train', 'test'], loc='upper left')\n",
    "plt.savefig('loss_nn_assesstot.png')\n",
    "plt.show()\n",
    "\n",
    "print(np.mean(history_train.history['rmse_metric']))\n",
    "print(np.mean(history_train.history['val_rmse_metric']))\n"
   ]
  },
  {
   "cell_type": "code",
   "execution_count": 16,
   "metadata": {},
   "outputs": [
    {
     "data": {
      "image/png": "[encoded data removed]",
      "text/plain": [
       "<Figure size 432x288 with 1 Axes>"
      ]
     },
     "metadata": {
      "needs_background": "light"
     },
     "output_type": "display_data"
    }
   ],
   "source": [
    "#plot y predict vs actual y for test set\n",
    "y_pred = model.predict(X_test)\n",
    "fig, ax = plt.subplots()\n",
    "ax.plot(Y_test, color = 'blue')\n",
    "ax.plot(y_pred, color = 'red')\n",
    "ax.legend(['Real', 'Predicted'])\n",
    "fig.savefig('real_vs_pred_nn_assesstot.png')\n",
    "plt.show()"
   ]
  },
  {
   "cell_type": "code",
   "execution_count": 17,
   "metadata": {},
   "outputs": [
    {
     "data": {
      "image/png": "[encoded data removed]",
      "text/plain": [
       "<Figure size 432x288 with 1 Axes>"
      ]
     },
     "metadata": {
      "needs_background": "light"
     },
     "output_type": "display_data"
    }
   ],
   "source": [
    "#plot y predict vs actual y for test set\n",
    "y_pred = model.predict(X_test)\n",
    "fig, ax = plt.subplots()\n",
    "ax.plot(y_pred, color = 'red')\n",
    "ax.legend(['Real', 'Predicted'])\n",
    "fig.savefig('real_vs_pred_nn_assesstot.png')\n",
    "plt.show()"
   ]
  },
  {
   "cell_type": "code",
   "execution_count": 77,
   "metadata": {},
   "outputs": [
    {
     "data": {
      "image/png": "[encoded data removed]",
      "text/plain": [
       "<Figure size 432x288 with 1 Axes>"
      ]
     },
     "metadata": {
      "needs_background": "light"
     },
     "output_type": "display_data"
    }
   ],
   "source": [
    "plt.plot(history_train.history['loss'])\n",
    "plt.plot(history_train.history['val_loss'])\n",
    "plt.title('Model loss')\n",
    "plt.ylabel('loss')\n",
    "plt.xlabel('epoch')\n",
    "plt.legend(['train', 'test'], loc='upper left')\n",
    "plt.savefig('loss_nn_assesstot.png')\n",
    "plt.show()"
   ]
  },
  {
   "cell_type": "code",
   "execution_count": null,
   "metadata": {},
   "outputs": [],
   "source": []
  }
 ],
 "metadata": {
  "kernelspec": {
   "display_name": "Python 3",
   "language": "python",
   "name": "python3"
  },
  "language_info": {
   "codemirror_mode": {
    "name": "ipython",
    "version": 3
   },
   "file_extension": ".py",
   "mimetype": "text/x-python",
   "name": "python",
   "nbconvert_exporter": "python",
   "pygments_lexer": "ipython3",
   "version": "3.7.3"
  }
 },
 "nbformat": 4,
 "nbformat_minor": 2
}
